{
 "metadata": {
  "language_info": {
   "codemirror_mode": {
    "name": "ipython",
    "version": 3
   },
   "file_extension": ".py",
   "mimetype": "text/x-python",
   "name": "python",
   "nbconvert_exporter": "python",
   "pygments_lexer": "ipython3",
   "version": "3.8.5-final"
  },
  "orig_nbformat": 2,
  "kernelspec": {
   "name": "python_defaultSpec_1600338105224",
   "display_name": "Python 3.8.5 64-bit ('ptenv': conda)"
  }
 },
 "nbformat": 4,
 "nbformat_minor": 2,
 "cells": [
  {
   "cell_type": "code",
   "execution_count": null,
   "metadata": {},
   "outputs": [],
   "source": [
    "# if all the json files are in data/ruv-di/json then run with:\n",
    "#for file in $(ls data/ruv-di/json); do if [ \"$file\" != '/dev/fd/63' ]; then python local/parse_json.py data/ruv-di/json/$file data/ruv-di; fi ; done\n",
    "\n",
    "# If the speaker IDs are on the format [number][name] or [number][name][number], e.g. '6Fe1' do this first: \n",
    "# sed -re 's/([0-9]+)[A-ZAÐEIOUYÞÆÖa-zaðeiouyþæö]+[0-9]+/\\1/g'  -e 's/([0-9]+)[A-ZAÐEIOUYÞÆÖa-zaðeiouyþæö]+/\\1/g' data/ruv-di/json/4886083R7.json > data/ruv-di/json/4886083R7_new.json\n",
    "# It is dangerous to overwrite files but we have to do it. We can move the original to a .orig subdir or something"
   ]
  },
  {
   "cell_type": "code",
   "execution_count": 2,
   "metadata": {},
   "outputs": [],
   "source": [
    "import json\n",
    "\n",
    "with open(\"/data/ruv-di/version0001/json/4934466T0.json\", \"r\") as f:\n",
    "    distros_dict = json.load(f)\n",
    " "
   ]
  },
  {
   "cell_type": "code",
   "execution_count": 3,
   "metadata": {},
   "outputs": [
    {
     "output_type": "execute_result",
     "data": {
      "text/plain": "dict_keys(['1', '2', '3', '4', '5', '[noise]', '[crosstalk]', '[bubble]', '[laughter]', '[music]', '[recording]', '[dialtone]', '[foreign]', '[beep]'])"
     },
     "metadata": {},
     "execution_count": 3
    }
   ],
   "source": [
    "distros_dict['colors'].keys()"
   ]
  },
  {
   "cell_type": "code",
   "execution_count": 4,
   "metadata": {},
   "outputs": [
    {
     "output_type": "execute_result",
     "data": {
      "text/plain": "{'id': '3+[foreign]'}"
     },
     "metadata": {},
     "execution_count": 4
    }
   ],
   "source": [
    "distros_dict['monologues'][7]['speaker']"
   ]
  },
  {
   "cell_type": "code",
   "execution_count": 7,
   "metadata": {},
   "outputs": [],
   "source": [
    "input_list = distros_dict[\"monologues\"]"
   ]
  },
  {
   "cell_type": "code",
   "execution_count": 5,
   "metadata": {},
   "outputs": [],
   "source": [
    "def hasNumbers(inputString):\n",
    "    return any(char.isdigit() for char in inputString)"
   ]
  },
  {
   "cell_type": "code",
   "execution_count": 10,
   "metadata": {
    "tags": []
   },
   "outputs": [
    {
     "output_type": "stream",
     "name": "stdout",
     "text": "2-filename_00000 2-filename 24.09 31.66\n2-filename_00000 2\n2-filename_00001 2-filename 31.66 33.16\n2-filename_00001 2\n2-filename_00002 2-filename 33.16 70.16\n2-filename_00002 2\n5-filename_00003 5-filename 70.16 70.73\n5-filename_00003 5\n2-filename_00004 2-filename 401.24 426.74\n2-filename_00004 2\n1-filename_00005 1-filename 426.74 442.99\n1-filename_00005 1\n2-filename_00006 2-filename 442.99 443.89\n2-filename_00006 2\n1-filename_00007 1-filename 443.89 453.44\n1-filename_00007 1\n2-filename_00008 2-filename 453.44 454.09\n2-filename_00008 2\n1-filename_00009 1-filename 454.09 457.44\n1-filename_00009 1\n2-filename_00010 2-filename 457.44 459.74\n2-filename_00010 2\n1-filename_00011 1-filename 459.74 484.99\n1-filename_00011 1\n2-filename_00012 2-filename 484.99 485.74\n2-filename_00012 2\n1-filename_00013 1-filename 485.74 486.84\n1-filename_00013 1\n2-filename_00014 2-filename 486.84 488.79\n2-filename_00014 2\n1-filename_00015 1-filename 488.79 489.09\n1-filename_00015 1\n2-filename_00016 2-filename 489.09 494.04\n2-filename_00016 2\n5-filename_00017 5-filename 494.04 507.79\n5-filename_00017 5\n2-filename_00018 2-filename 507.79 510.19\n2-filename_00018 2\n5-filename_00019 5-filename 510.19 535.34\n5-filename_00019 5\n2-filename_00020 2-filename 535.34 540.14\n2-filename_00020 2\n5-filename_00021 5-filename 540.14 540.64\n5-filename_00021 5\n2-filename_00022 2-filename 540.64 550.5\n2-filename_00022 2\n5-filename_00023 5-filename 550.5 553.39\n5-filename_00023 5\n5-filename_00025 5-filename 554.34 575.14\n5-filename_00025 5\n2-filename_00026 2-filename 575.14 575.54\n2-filename_00026 2\n5-filename_00027 5-filename 575.54 584.54\n5-filename_00027 5\n2-filename_00028 2-filename 584.54 607.65\n2-filename_00028 2\n1-filename_00029 1-filename 607.65 624.04\n1-filename_00029 1\n5-filename_00030 5-filename 624.04 644.49\n5-filename_00030 5\n2-filename_00031 2-filename 644.49 646.24\n2-filename_00031 2\n5-filename_00032 5-filename 646.24 647.89\n5-filename_00032 5\n2-filename_00033 2-filename 647.89 657.29\n2-filename_00033 2\n5-filename_00034 5-filename 657.29 658.03\n5-filename_00034 5\n2-filename_00035 2-filename 658.03 659.24\n2-filename_00035 2\n5-filename_00036 5-filename 659.24 686.21\n5-filename_00036 5\n1-filename_00037 1-filename 686.21 696.46\n1-filename_00037 1\n2-filename_00038 2-filename 696.46 698.62\n2-filename_00038 2\n1-filename_00039 1-filename 698.62 709.14\n1-filename_00039 1\n2-filename_00040 2-filename 709.14 717.16\n2-filename_00040 2\n1-filename_00041 1-filename 717.16 727.07\n1-filename_00041 1\n1-filename_00042 1-filename 727.07 727.8\n1-filename_00042 1\n2-filename_00044 2-filename 728.59 734.78\n2-filename_00044 2\n1-filename_00045 1-filename 734.78 745.46\n1-filename_00045 1\n2-filename_00046 2-filename 745.46 755.71\n2-filename_00046 2\n1-filename_00047 1-filename 755.71 756.23\n1-filename_00047 1\n2-filename_00048 2-filename 756.23 761.54\n2-filename_00048 2\n1-filename_00049 1-filename 762.64 782.55\n1-filename_00049 1\n2-filename_00050 2-filename 782.55 783.14\n2-filename_00050 2\n1-filename_00051 1-filename 783.14 785.98\n1-filename_00051 1\n2-filename_00052 2-filename 785.98 791.36\n2-filename_00052 2\n1-filename_00053 1-filename 791.36 792.96\n1-filename_00053 1\n2-filename_00054 2-filename 792.96 794.97\n2-filename_00054 2\n1-filename_00055 1-filename 794.97 795.72\n1-filename_00055 1\n1-filename_00056 1-filename 795.72 798.09\n1-filename_00056 1\n2-filename_00057 2-filename 798.09 799.99\n2-filename_00057 2\n2-filename_00058 2-filename 800.97 823.57\n2-filename_00058 2\n1-filename_00059 1-filename 823.57 823.78\n1-filename_00059 1\n2-filename_00060 2-filename 823.78 829.19\n2-filename_00060 2\n1-filename_00061 1-filename 829.19 844.62\n1-filename_00061 1\n2-filename_00062 2-filename 844.62 845.16\n2-filename_00062 2\n1-filename_00063 1-filename 845.16 856.09\n1-filename_00063 1\n2-filename_00064 2-filename 856.09 858.39\n2-filename_00064 2\n5-filename_00065 5-filename 858.39 873.71\n5-filename_00065 5\n2-filename_00066 2-filename 873.71 881.12\n2-filename_00066 2\n5-filename_00067 5-filename 881.12 895.07\n5-filename_00067 5\n1-filename_00068 1-filename 895.07 900.71\n1-filename_00068 1\n2-filename_00069 2-filename 900.71 904.57\n2-filename_00069 2\n5-filename_00070 5-filename 904.57 905.03\n5-filename_00070 5\n"
    }
   ],
   "source": [
    "count = 0\n",
    "for d in input_list:\n",
    "    diar_id = d[\"speaker\"][\"id\"]\n",
    "    if not hasNumbers(diar_id):\n",
    "        continue\n",
    "    elif \"foreign\" in diar_id or \"crosstalk\" in diar_id:\n",
    "        continue\n",
    "    else:\n",
    "        spkid = \" \".join([s for s in diar_id.split(\"+\") if s.isdigit()])\n",
    "        if not len(spkid.split()) > 1:\n",
    "            print(\n",
    "                f\"{spkid}-filename_{count:05d} {spkid}-filename {d['start']} {d['end']}\"\n",
    "            )\n",
    "            print(f\"{spkid}-filename_{count:05d} {spkid}\")\n",
    "            #seg.write(\n",
    "            #    f\"{spkid}-{filename}_{count:05d} {spkid}-{filename} {d['start']} {d['end']}\\n\"\n",
    "            #)\n",
    "            #utt2spk.write(f\"{spkid}-{filename}_{count:05d} {spkid}\\n\")\n",
    "    count = count + 1"
   ]
  },
  {
   "cell_type": "code",
   "execution_count": 11,
   "metadata": {
    "tags": []
   },
   "outputs": [
    {
     "output_type": "stream",
     "name": "stdout",
     "text": "5\n70.16\n70.73\n"
    }
   ],
   "source": [
    "print(distros_dict['monologues'][5]['speaker']['id'])\n",
    "print(distros_dict['monologues'][5]['start'])\n",
    "print(distros_dict['monologues'][5]['end'])"
   ]
  },
  {
   "cell_type": "code",
   "execution_count": 35,
   "metadata": {},
   "outputs": [],
   "source": [
    "import json\n",
    "\n",
    "def main(json_filename):\n",
    "    base = os.path.basename(json_filename)\n",
    "    (filename, ext) = os.path.splitext(base.replace(\"_\", \"\"))\n",
    "    show_title = os.path.basename(os.path.dirname(json_filename))\n",
    "    print(show_title)\n",
    "    if not os.path.exists(\"data/\" + show_title):\n",
    "        os.makedirs(\"data/\" + show_title)\n",
    "\n",
    "    if not os.path.exists(\"data/\" + show_title + \"/\" + filename):\n",
    "        os.makedirs(\"data/\" + show_title + \"/\" + filename)\n",
    "\n",
    "    with open(json_filename, \"r\") as f:\n",
    "        input_dict = json.load(f)\n",
    "\n",
    "    input_list = input_dict['monologues']\n",
    "    # with open(\"data/\" + show_title + \"/\" + filename + \"/\" + filename + \"ruvdi_segments\", \"w\"\n",
    "    # ) as seg, open(\n",
    "    #     \"data/\" + show_title + \"/\" + filename + \"/\" + filename + \"ruvdi_utt2spk\", \"w\"\n",
    "    # ) as utt2spk:\n",
    "    count = 0\n",
    "    for d in input_list[:10]:\n",
    "        if d['speaker']['id'][0] != '[':\n",
    "            spkid = d['speaker']['id'].split('+')[0]\n",
    "            print(f\"{spkid}-{filename}_{count:05d} {spkid}-{filename} {d['start']} {d['end']}\")\n",
    "            print(f\"{spkid}-{filename}_{count:05d} {spkid}\")\n",
    "            #seg.write(f\"{spkid}-{filename}_{count:05d} {spkid}-{filename} {d['start']} {d['end']}\")\n",
    "            #utt2spk.write(f\"{spkid}-{filename}_{count:05d} {spkid}\")\n",
    "        count = count + 1"
   ]
  },
  {
   "cell_type": "code",
   "execution_count": 36,
   "metadata": {
    "tags": []
   },
   "outputs": [
    {
     "output_type": "stream",
     "name": "stdout",
     "text": "json\n2-4934466T0_00002 2-4934466T0 24.09 31.66\n2-4934466T0_00002 2\n2-4934466T0_00003 2-4934466T0 31.66 33.16\n2-4934466T0_00003 2\n2-4934466T0_00004 2-4934466T0 33.16 70.16\n2-4934466T0_00004 2\n5-4934466T0_00005 5-4934466T0 70.16 70.73\n5-4934466T0_00005 5\n3-4934466T0_00007 3-4934466T0 259.4 268.13\n3-4934466T0_00007 3\n4-4934466T0_00008 4-4934466T0 268.13 321.25\n4-4934466T0_00008 4\n"
    }
   ],
   "source": [
    "main(\"/data/ruv-di/version0001/json/4934466T0.json\")"
   ]
  },
  {
   "cell_type": "code",
   "execution_count": null,
   "metadata": {},
   "outputs": [],
   "source": []
  }
 ]
}