{
 "metadata": {
  "language_info": {
   "codemirror_mode": {
    "name": "ipython",
    "version": 3
   },
   "file_extension": ".py",
   "mimetype": "text/x-python",
   "name": "python",
   "nbconvert_exporter": "python",
   "pygments_lexer": "ipython3",
   "version": "3.7.7-final"
  },
  "orig_nbformat": 2,
  "kernelspec": {
   "name": "Python 3.7.7 64-bit",
   "display_name": "Python 3.7.7 64-bit",
   "metadata": {
    "interpreter": {
     "hash": "f17f2f44f72f1f50b32be71b375efcb4666b335914aeef06bcebffecb9ca44d5"
    }
   }
  }
 },
 "nbformat": 4,
 "nbformat_minor": 2,
 "cells": [
  {
   "cell_type": "code",
   "execution_count": null,
   "metadata": {},
   "outputs": [],
   "source": [
    "# I need to find which speakers are within a subtitle time range. \n",
    "# I have a list of speakers and timestamps in /work/inga/data/h2/ruv-di/<filename>/ruvdi_segments, let's call them diarization segments, and subtitle timestamps in /work/inga/data/h2/asr_ruvdi/transcripts/<filename>/segments\n",
    "# I have to find within which diarization timestamps the subtitle timestamps lie and assign the corresponding spkID to the subtitle timestamp \n",
    "# NOTE! Before i start assigning spkIDs. I need to use reco2spk_num2spk_info.csv to fix the speaker IDs in the ruv-di data, and then put all the segment data into one file"
   ]
  },
  {
   "cell_type": "code",
   "execution_count": 7,
   "metadata": {},
   "outputs": [],
   "source": [
    "import pandas as pd"
   ]
  },
  {
   "cell_type": "code",
   "execution_count": 8,
   "metadata": {
    "tags": []
   },
   "outputs": [],
   "source": [
    "\n",
    "meta = pd.read_table('/home/staff/inga/h2/data/reco2spk_num2spk_info.csv', header=None, sep=',')\n",
    "diar = pd.read_table('/home/staff/inga/h2/data/ruv-di/all_segments', header=None, sep='\\s+')"
   ]
  },
  {
   "cell_type": "code",
   "execution_count": 26,
   "metadata": {
    "tags": []
   },
   "outputs": [
    {
     "output_type": "stream",
     "name": "stdout",
     "text": "0   1                            2        3\n0  4886083R7   1        Bergsteinn Sigurðsson  SPK0016\n1  4886083R7   2  Steinþór Helgi Arnsteinsson  SPK0129\n2  4886083R7   3                     Female 1  UNK0003\n3  4886083R7   4      Menningin Interviewer 1  UNK0020\n4  4886083R7   5           Guðbergur Bergsson  SPK0050\n5  4886083R7   6       Helga Braga Jónsdóttir  SPK0065\n6  4886083R7   7       Kastljós Interviewer 1  UNK0014\n7  4886083R7   8         Ævar Rafn Hafþórsson  SPK0002\n8  4886083R7   9          Ilmur Stefánsdóttir  SPK0067\n9  4886083R7  10              Kastljós Host 1  UNK0011\n     0                1   2          3       4       5\n0   10  4886083R7_00000  10  4886083R7   17.27   19.52\n1   10  4886083R7_00001  10  4886083R7   19.52   64.55\n2   10  4886083R7_00002  10  4886083R7   64.55   65.24\n3   10  4886083R7_00003  10  4886083R7   65.24   81.17\n4   10  4886083R7_00004  10  4886083R7   81.92   97.45\n5    3  4886083R7_00005   3  4886083R7   98.20  105.78\n6    6  4886083R7_00006   6  4886083R7  105.78  109.53\n7    3  4886083R7_00007   3  4886083R7  138.25  139.00\n8    3  4886083R7_00008   3  4886083R7  139.00  140.36\n9    7  4886083R7_00009   7  4886083R7  140.36  159.35\n10  11  4886083R7_00010  11  4886083R7  159.35  164.35\n11   7  4886083R7_00011   7  4886083R7  164.35  165.45\n12  11  4886083R7_00012  11  4886083R7  165.45  183.58\n13  11  4886083R7_00013  11  4886083R7  187.06  207.56\n14  11  4886083R7_00014  11  4886083R7  207.56  210.19\n"
    }
   ],
   "source": [
    "print(meta.head(n=10))\n",
    "print(diar.head(n=15))"
   ]
  },
  {
   "cell_type": "code",
   "execution_count": 23,
   "metadata": {},
   "outputs": [],
   "source": [
    "def fix_spkID(meta,diar,seg):\n",
    "    '''Map the infile speaker IDs to the overall ones'''\n",
    "    for diar_row in diar.itertuples(index=False):\n",
    "        for meta_row in meta.itertuples(index=False):\n",
    "            if meta_row[0] == diar_row[3] and meta_row[1] == diar_row[0]:\n",
    "                seg.write(f\"{meta_row[3]}-{diar_row[1]} {meta_row[3]}-{diar_row[3]} {diar_row[4]} {diar_row[5]}\\n\")\n",
    "                break"
   ]
  },
  {
   "cell_type": "code",
   "execution_count": 24,
   "metadata": {},
   "outputs": [],
   "source": [
    "with open('/home/staff/inga/h2/data/ruv-di/all_segments_wspkID','w') as seg:\n",
    "    fix_spkID(meta,diar,seg)"
   ]
  },
  {
   "cell_type": "code",
   "execution_count": null,
   "metadata": {},
   "outputs": [],
   "source": [
    "# Now I can pair my speaker identified diarization segments with the new segments obtained from audio-subtitle text alignment, which need speaker IDs. "
   ]
  },
  {
   "cell_type": "code",
   "execution_count": 9,
   "metadata": {},
   "outputs": [],
   "source": [
    "sub = pd.read_table('/work/inga/data/h2/judy_reseg/segments', header=None, sep='\\s+')\n",
    "spkdi = pd.read_table('/home/staff/inga/h2/data/ruv-di/all_segments_wspkID', header=None, sep='\\s+')"
   ]
  },
  {
   "cell_type": "code",
   "execution_count": 10,
   "metadata": {
    "tags": []
   },
   "outputs": [
    {
     "output_type": "stream",
     "name": "stdout",
     "text": "                                         0                  1      2      3\n0  unknown-4886083R7-00000000-00003000-1-1  unknown-4886083R7  17.74  25.28\n1  unknown-4886083R7-00000000-00003000-2-1  unknown-4886083R7  24.85  29.99\n2  unknown-4886083R7-00002500-00005500-1-1  unknown-4886083R7  30.02  32.22\n3  unknown-4886083R7-00002500-00005500-1-2  unknown-4886083R7  32.51  33.53\n4  unknown-4886083R7-00002500-00005500-2-1  unknown-4886083R7  33.44  41.91\n                         0                  1      2      3\n0  UNK0011-4886083R7_00000  UNK0011-4886083R7  17.27  19.52\n1  UNK0011-4886083R7_00001  UNK0011-4886083R7  19.52  64.55\n2  UNK0011-4886083R7_00002  UNK0011-4886083R7  64.55  65.24\n3  UNK0011-4886083R7_00003  UNK0011-4886083R7  65.24  81.17\n4  UNK0011-4886083R7_00004  UNK0011-4886083R7  81.92  97.45\n"
    }
   ],
   "source": [
    "print(sub.head(n=5))\n",
    "print(spkdi.head(n=5))"
   ]
  },
  {
   "cell_type": "code",
   "execution_count": 11,
   "metadata": {
    "tags": []
   },
   "outputs": [
    {
     "output_type": "stream",
     "name": "stdout",
     "text": "['4886083R7', '4886107R8', '4886131R9', '4898511R7', '4898535R3', '4930605S0', '4934417T0', '4934441T0', '4934466T0', '4959359T0', '4959383T0', '4959408T0', '5004302T0', '5012565T0', '5019095T0', '5021994T0', '5021995T0', '5022004T0', '5022010T0', '5022028T0']\n"
    }
   ],
   "source": [
    "ids = sub[1].unique()\n",
    "recoid = [id.split(\"-\")[1] for id in ids]\n",
    "print(recoid)"
   ]
  },
  {
   "cell_type": "code",
   "execution_count": 19,
   "metadata": {},
   "outputs": [],
   "source": [
    "def extrack_spk(sub,spkdi,seg, strict: bool):\n",
    "    ids = sub[1].unique()\n",
    "    recoid_list = [id.split(\"-\")[1] for id in ids] # List of all recording IDs\n",
    "    index_list = []\n",
    "    for recoid in recoid_list:\n",
    "        # Create new dataframes with only lines containing this recording ID\n",
    "        spkdi_part = spkdi[spkdi[1].str.contains(recoid)]\n",
    "        sub_part = sub[sub[1].str.contains(recoid)]\n",
    "        #start = 0\n",
    "        for sub_row in sub_part.itertuples(index=False):\n",
    "            # Find all rows is diarization data that have segment start before my subtitle start and segment end after it\n",
    "            if strict:\n",
    "                dirows = spkdi_part.loc[(spkdi_part[2] <= sub_row[2]) & ((spkdi_part[3] + 1) >= sub_row[3])]\n",
    "            else:\n",
    "                dirows = spkdi_part.loc[(spkdi_part[2] <= sub_row[2]) & (spkdi_part[3] >= sub_row[2])]\n",
    "            if not dirows.empty:\n",
    "                spkid = str(dirows[1]).split(\"-\")[0] # Extract the spkID from the uttID\n",
    "                spkid2 = spkid.split()[1]\n",
    "                sub_recoid, count = sub_row[0].split(\"-\")[1:3]\n",
    "                seg.write(f\"{spkid2}-{sub_recoid}-{count} {spkid2}-{sub_recoid} {sub_row[2]} {sub_row[3]}\\n\")\n",
    "                #index_list.append([start, spkid, recoid, sub_recoid, count, sub_row[2:4], dirows])\n",
    "            #start += 1\n",
    "    #return index_list\n"
   ]
  },
  {
   "cell_type": "code",
   "execution_count": 20,
   "metadata": {
    "tags": []
   },
   "outputs": [],
   "source": [
    "strict = True\n",
    "with open('/work/inga/data/h2/judy_reseg/segments_wspkid_strict2','w') as seg:\n",
    "    extrack_spk(sub,spkdi,seg,strict=True)"
   ]
  },
  {
   "cell_type": "code",
   "execution_count": 83,
   "metadata": {
    "tags": []
   },
   "outputs": [
    {
     "output_type": "stream",
     "name": "stdout",
     "text": "1514\n2304\n"
    }
   ],
   "source": [
    "print(len(outlist))\n",
    "print(len(sub))"
   ]
  },
  {
   "cell_type": "code",
   "execution_count": 76,
   "metadata": {},
   "outputs": [
    {
     "output_type": "execute_result",
     "data": {
      "text/plain": "[[49,\n  '228    UNK0018',\n  '4886131R9',\n  '4886131R9',\n  '050',\n  (814.14, 823.211),\n                             0                  1      2       3\n  228  UNK0018-4886131R9_00040  UNK0018-4886131R9  803.6  814.85],\n [50,\n  '231    SPK0094',\n  '4886131R9',\n  '4886131R9',\n  '051',\n  (823.57, 824.471),\n                             0                  1       2       3\n  231  SPK0094-4886131R9_00043  SPK0094-4886131R9  819.48  829.98],\n [51,\n  '231    SPK0094',\n  '4886131R9',\n  '4886131R9',\n  '052',\n  (825.24, 831.3610000000001),\n                             0                  1       2       3\n  231  SPK0094-4886131R9_00043  SPK0094-4886131R9  819.48  829.98],\n [52,\n  '232    UNK0018',\n  '4886131R9',\n  '4886131R9',\n  '053',\n  (836.46, 837.3910000000001),\n                             0                  1       2       3\n  232  UNK0018-4886131R9_00044  UNK0018-4886131R9  829.98  898.25],\n [53,\n  '232    UNK0018',\n  '4886131R9',\n  '4886131R9',\n  '054',\n  (837.58, 839.291),\n                             0                  1       2       3\n  232  UNK0018-4886131R9_00044  UNK0018-4886131R9  829.98  898.25],\n [54,\n  '232    UNK0018',\n  '4886131R9',\n  '4886131R9',\n  '055',\n  (842.04, 852.221),\n                             0                  1       2       3\n  232  UNK0018-4886131R9_00044  UNK0018-4886131R9  829.98  898.25],\n [55,\n  '232    UNK0018',\n  '4886131R9',\n  '4886131R9',\n  '056',\n  (856.11, 861.8710000000001),\n                             0                  1       2       3\n  232  UNK0018-4886131R9_00044  UNK0018-4886131R9  829.98  898.25],\n [56,\n  '232    UNK0018',\n  '4886131R9',\n  '4886131R9',\n  '057',\n  (863.71, 875.711),\n                             0                  1       2       3\n  232  UNK0018-4886131R9_00044  UNK0018-4886131R9  829.98  898.25],\n [57,\n  '232    UNK0018',\n  '4886131R9',\n  '4886131R9',\n  '058',\n  (876.54, 885.331),\n                             0                  1       2       3\n  232  UNK0018-4886131R9_00044  UNK0018-4886131R9  829.98  898.25],\n [58,\n  '232    UNK0018',\n  '4886131R9',\n  '4886131R9',\n  '059',\n  (889.92, 895.9010000000001),\n                             0                  1       2       3\n  232  UNK0018-4886131R9_00044  UNK0018-4886131R9  829.98  898.25],\n [59,\n  '233    SPK0094',\n  '4886131R9',\n  '4886131R9',\n  '060',\n  (902.1, 908.8910000000001),\n                             0                  1       2       3\n  233  SPK0094-4886131R9_00045  SPK0094-4886131R9  898.25  902.34],\n [60,\n  '234    UNK0018',\n  '4886131R9',\n  '4886131R9',\n  '061',\n  (909.01, 939.1210000000001),\n                             0                  1       2       3\n  234  UNK0018-4886131R9_00046  UNK0018-4886131R9  902.34  917.37],\n [61,\n  '236    UNK0018',\n  '4886131R9',\n  '4886131R9',\n  '062',\n  (939.58, 945.821),\n                             0                  1      2       3\n  236  UNK0018-4886131R9_00048  UNK0018-4886131R9  939.5  962.29],\n [62,\n  '236    UNK0018',\n  '4886131R9',\n  '4886131R9',\n  '063',\n  (952.41, 958.291),\n                             0                  1      2       3\n  236  UNK0018-4886131R9_00048  UNK0018-4886131R9  939.5  962.29],\n [63,\n  '236    UNK0018',\n  '4886131R9',\n  '4886131R9',\n  '064',\n  (958.86, 961.471),\n                             0                  1      2       3\n  236  UNK0018-4886131R9_00048  UNK0018-4886131R9  939.5  962.29],\n [64,\n  '237    SPK0094',\n  '4886131R9',\n  '4886131R9',\n  '065',\n  (964.74, 966.0310000000001),\n                             0                  1       2       3\n  237  SPK0094-4886131R9_00049  SPK0094-4886131R9  962.29  966.04],\n [65,\n  '238    UNK0018',\n  '4886131R9',\n  '4886131R9',\n  '066',\n  (968.28, 971.7310000000001),\n                             0                  1       2       3\n  238  UNK0018-4886131R9_00050  UNK0018-4886131R9  966.04  969.29],\n [66,\n  '239    SPK0094',\n  '4886131R9',\n  '4886131R9',\n  '067',\n  (973.09, 974.581),\n                             0                  1       2       3\n  239  SPK0094-4886131R9_00051  SPK0094-4886131R9  969.29  974.16],\n [70,\n  '244    SPK0094',\n  '4886131R9',\n  '4886131R9',\n  '071',\n  (1016.19, 1017.54),\n                             0                  1        2        3\n  244  SPK0094-4886131R9_00060  SPK0094-4886131R9  1002.45  1021.93],\n [71,\n  '244    SPK0094',\n  '4886131R9',\n  '4886131R9',\n  '072',\n  (1017.9, 1023.3),\n                             0                  1        2        3\n  244  SPK0094-4886131R9_00060  SPK0094-4886131R9  1002.45  1021.93],\n [77,\n  '249    SPK0016',\n  '4886131R9',\n  '4886131R9',\n  '078',\n  (1071.21, 1074.97),\n                             0                  1        2        3\n  249  SPK0016-4886131R9_00068  SPK0016-4886131R9  1070.13  1090.54],\n [78,\n  '249    SPK0016',\n  '4886131R9',\n  '4886131R9',\n  '079',\n  (1077.19, 1080.34),\n                             0                  1        2        3\n  249  SPK0016-4886131R9_00068  SPK0016-4886131R9  1070.13  1090.54],\n [79,\n  '249    SPK0016',\n  '4886131R9',\n  '4886131R9',\n  '080',\n  (1083.7, 1088.68),\n                             0                  1        2        3\n  249  SPK0016-4886131R9_00068  SPK0016-4886131R9  1070.13  1090.54],\n [80,\n  '250    UNK0032',\n  '4886131R9',\n  '4886131R9',\n  '081',\n  (1094.76, 1106.26),\n                             0                  1        2        3\n  250  UNK0032-4886131R9_00069  UNK0032-4886131R9  1091.29  1109.29],\n [81,\n  '250    UNK0032',\n  '4886131R9',\n  '4886131R9',\n  '082',\n  (1107.04, 1108.83),\n                             0                  1        2        3\n  250  UNK0032-4886131R9_00069  UNK0032-4886131R9  1091.29  1109.29],\n [82,\n  '251    SPK0013',\n  '4886131R9',\n  '4886131R9',\n  '083',\n  (1112.46, 1118.58),\n                             0                  1        2        3\n  251  SPK0013-4886131R9_00070  SPK0013-4886131R9  1109.29  1128.49],\n [83,\n  '251    SPK0013',\n  '4886131R9',\n  '4886131R9',\n  '084',\n  (1118.92, 1120.83),\n                             0                  1        2        3\n  251  SPK0013-4886131R9_00070  SPK0013-4886131R9  1109.29  1128.49],\n [84,\n  '251    SPK0013',\n  '4886131R9',\n  '4886131R9',\n  '085',\n  (1122.99, 1129.02),\n                             0                  1        2        3\n  251  SPK0013-4886131R9_00070  SPK0013-4886131R9  1109.29  1128.49],\n [85,\n  '252    SPK0013',\n  '4886131R9',\n  '4886131R9',\n  '086',\n  (1129.8, 1131.61),\n                             0                  1        2        3\n  252  SPK0013-4886131R9_00071  SPK0013-4886131R9  1129.14  1137.38],\n [86,\n  '252    SPK0013',\n  '4886131R9',\n  '4886131R9',\n  '087',\n  (1132.47, 1162.51),\n                             0                  1        2        3\n  252  SPK0013-4886131R9_00071  SPK0013-4886131R9  1129.14  1137.38],\n [87,\n  '254    SPK0128',\n  '4886131R9',\n  '4886131R9',\n  '088',\n  (1164.57, 1168.32),\n                             0                  1        2       3\n  254  SPK0128-4886131R9_00073  SPK0128-4886131R9  1144.51  1170.8],\n [88,\n  '255    UNK0032',\n  '4886131R9',\n  '4886131R9',\n  '089',\n  (1172.5, 1175.22),\n                             0                  1        2        3\n  255  UNK0032-4886131R9_00074  UNK0032-4886131R9  1171.66  1178.43],\n [89,\n  '255    UNK0032',\n  '4886131R9',\n  '4886131R9',\n  '090',\n  (1175.37, 1185.31),\n                             0                  1        2        3\n  255  UNK0032-4886131R9_00074  UNK0032-4886131R9  1171.66  1178.43],\n [90,\n  '256    SPK0013',\n  '4886131R9',\n  '4886131R9',\n  '091',\n  (1185.78, 1187.68),\n                             0                  1        2        3\n  256  SPK0013-4886131R9_00075  SPK0013-4886131R9  1178.43  1215.19],\n [91,\n  '256    SPK0013',\n  '4886131R9',\n  '4886131R9',\n  '092',\n  (1188.94, 1195.59),\n                             0                  1        2        3\n  256  SPK0013-4886131R9_00075  SPK0013-4886131R9  1178.43  1215.19],\n [92,\n  '256    SPK0013',\n  '4886131R9',\n  '4886131R9',\n  '093',\n  (1195.92, 1202.14),\n                             0                  1        2        3\n  256  SPK0013-4886131R9_00075  SPK0013-4886131R9  1178.43  1215.19],\n [93,\n  '256    SPK0013',\n  '4886131R9',\n  '4886131R9',\n  '094',\n  (1202.88, 1205.82),\n                             0                  1        2        3\n  256  SPK0013-4886131R9_00075  SPK0013-4886131R9  1178.43  1215.19],\n [94,\n  '256    SPK0013',\n  '4886131R9',\n  '4886131R9',\n  '095',\n  (1205.97, 1211.53),\n                             0                  1        2        3\n  256  SPK0013-4886131R9_00075  SPK0013-4886131R9  1178.43  1215.19],\n [95,\n  '256    SPK0013',\n  '4886131R9',\n  '4886131R9',\n  '096',\n  (1212.64, 1226.47),\n                             0                  1        2        3\n  256  SPK0013-4886131R9_00075  SPK0013-4886131R9  1178.43  1215.19],\n [96,\n  '258    SPK0013',\n  '4886131R9',\n  '4886131R9',\n  '097',\n  (1226.97, 1232.4),\n                             0                  1        2        3\n  258  SPK0013-4886131R9_00077  SPK0013-4886131R9  1226.19  1231.87],\n [97,\n  '259    SPK0013',\n  '4886131R9',\n  '4886131R9',\n  '098',\n  (1237.17, 1238.32),\n                             0                  1       2        3\n  259  SPK0013-4886131R9_00078  SPK0013-4886131R9  1235.4  1247.78],\n [98,\n  '259    SPK0013',\n  '4886131R9',\n  '4886131R9',\n  '099',\n  (1242.24, 1246.32),\n                             0                  1       2        3\n  259  SPK0013-4886131R9_00078  SPK0013-4886131R9  1235.4  1247.78],\n [99,\n  '260    UNK0032',\n  '4886131R9',\n  '4886131R9',\n  '100',\n  (1248.58, 1254.36),\n                             0                  1        2        3\n  260  UNK0032-4886131R9_00079  UNK0032-4886131R9  1247.78  1261.28],\n [100,\n  '260    UNK0032',\n  '4886131R9',\n  '4886131R9',\n  '101',\n  (1255.26, 1262.89),\n                             0                  1        2        3\n  260  UNK0032-4886131R9_00079  UNK0032-4886131R9  1247.78  1261.28],\n [101,\n  '261    SPK0053',\n  '4886131R9',\n  '4886131R9',\n  '102',\n  (1264.35, 1265.82),\n                             0                  1        2       3\n  261  SPK0053-4886131R9_00080  SPK0053-4886131R9  1262.94  1266.9]]"
     },
     "metadata": {},
     "execution_count": 76
    }
   ],
   "source": [
    "outlist[356:401]"
   ]
  },
  {
   "cell_type": "code",
   "execution_count": null,
   "metadata": {},
   "outputs": [],
   "source": []
  }
 ]
}